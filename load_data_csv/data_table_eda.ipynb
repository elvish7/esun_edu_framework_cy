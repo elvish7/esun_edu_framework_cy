{
 "cells": [
  {
   "cell_type": "markdown",
   "id": "32fc180b",
   "metadata": {},
   "source": [
    "# 載入需要套件"
   ]
  },
  {
   "cell_type": "code",
   "execution_count": 1,
   "id": "eb84f302",
   "metadata": {},
   "outputs": [],
   "source": [
    "import os\n",
    "import argparse\n",
    "import pandas as pd\n",
    "import numpy as np\n",
    "import scipy.sparse as sp\n",
    "from lightfm import LightFM\n",
    "from lightfm.data import Dataset\n",
    "from evaluation import Evaluation\n",
    "from mlaas_tools.config_build import config_set\n",
    "from db_connection.utils import get_conn\n",
    "from utils import recommendation_all, load_w103, load_w106, load_cust_pop, create_all_feature_pairs, build_feature_tuples, load_cust_pop_0205 "
   ]
  },
  {
   "cell_type": "code",
   "execution_count": 2,
   "id": "9b929ea3",
   "metadata": {},
   "outputs": [],
   "source": [
    "## Configure env\n",
    "if not os.path.isfile('config.ini'):\n",
    "    config_set()"
   ]
  },
  {
   "cell_type": "code",
   "execution_count": 3,
   "id": "50467bee",
   "metadata": {},
   "outputs": [
    {
     "name": "stdout",
     "output_type": "stream",
     "text": [
      "read key file\n",
      "login as edu-agb\n"
     ]
    }
   ],
   "source": [
    "## Load db connection\n",
    "rawdata_conn = get_conn('edu')"
   ]
  },
  {
   "cell_type": "code",
   "execution_count": 6,
   "id": "5f1069ae",
   "metadata": {},
   "outputs": [
    {
     "name": "stdout",
     "output_type": "stream",
     "text": [
      "Loading Data...\n"
     ]
    }
   ],
   "source": [
    "## Load data\n",
    "today = '2018-12-31'\n",
    "span = 18\n",
    "print(\"Loading Data...\")\n",
    "w103_df = load_w103(today, rawdata_conn, span)"
   ]
  },
  {
   "cell_type": "code",
   "execution_count": 7,
   "id": "f72f1c79",
   "metadata": {},
   "outputs": [],
   "source": [
    "purchase_hist = w103_df.groupby(\"cust_no\")[\"wm_prod_code\"].apply(lambda x: list(set(x.values.tolist()))).to_dict()"
   ]
  },
  {
   "cell_type": "code",
   "execution_count": null,
   "id": "6cb65eec",
   "metadata": {},
   "outputs": [],
   "source": [
    "warm_user = list(purchase_hist.keys() & self.ans.keys())\n",
    "cold_user = list(ans.keys() - self.purchase_hist.keys())"
   ]
  },
  {
   "cell_type": "code",
   "execution_count": null,
   "id": "d1c8d261",
   "metadata": {},
   "outputs": [],
   "source": [
    "def answer(self, date, conn, duration):\n",
    "        df = self.read(date, conn, duration)\n",
    "        return df.groupby('cust_no')['wm_prod_code'].apply(list).to_dict()\n",
    "\n",
    "    def read(self, date, conn, duration):\n",
    "        after_1d_dt, after_1m_dt, after_7d_dt = self.get_data_dt(date, 1)\n",
    "\n",
    "        if duration == '7d':\n",
    "            d_end = after_7d_dt\n",
    "        else:\n",
    "            d_end = after_1m_dt\n",
    "\n",
    "        sql = \"\"\"\n",
    "            with \n",
    "                cte1 as (select cust_id as cust_no, \n",
    "                                replace(wm_prod_code, ' ', '') as wm_prod_code, \n",
    "                                txn_dt, \n",
    "                                (case when wms_txn_amt_twd is null then 1 else wms_txn_amt_twd end) as txn_amt,\n",
    "                                dta_src,\n",
    "                                deduct_cnt,\n",
    "                                etl_dt\n",
    "                        from sinica.witwo103_hist \n",
    "                        where wm_txn_code='1'and txn_dt>='{d_start}' and txn_dt<='{d_end}' and deduct_cnt <=1), \n",
    "                cte2 as (select distinct replace(wm_prod_code, ' ', '') as wm_prod_code\n",
    "                        from sinica.witwo106\n",
    "                        where replace(prod_detail_type_code, ' ','') in ('FNDF','FNDD')) \n",
    "            select cte1.cust_no, cte1.wm_prod_code from cte1 inner join cte2 on cte1.wm_prod_code=cte2.wm_prod_code order by cust_no\n",
    "            \"\"\".format(d_start=after_1d_dt, d_end=d_end)\n",
    "        return pd.read_sql(sql, conn)  "
   ]
  }
 ],
 "metadata": {
  "kernelspec": {
   "display_name": "Python 3",
   "language": "python",
   "name": "python3"
  },
  "language_info": {
   "codemirror_mode": {
    "name": "ipython",
    "version": 3
   },
   "file_extension": ".py",
   "mimetype": "text/x-python",
   "name": "python",
   "nbconvert_exporter": "python",
   "pygments_lexer": "ipython3",
   "version": "3.7.10"
  }
 },
 "nbformat": 4,
 "nbformat_minor": 5
}
