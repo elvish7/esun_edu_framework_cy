{
 "cells": [
  {
   "cell_type": "markdown",
   "id": "5c61f41d",
   "metadata": {},
   "source": [
    "# Import packages"
   ]
  },
  {
   "cell_type": "code",
   "execution_count": 1,
   "id": "a42625fb",
   "metadata": {},
   "outputs": [],
   "source": [
    "import math, os, collections\n",
    "import pandas as pd\n",
    "import numpy as np\n",
    "from sklearn.metrics.pairwise import cosine_similarity\n",
    "from evaluation import Evaluation\n",
    "from db_connection.utils import get_conn, get_data_start_dt\n",
    "from utils import load_w103, load_w106, load_cust, cust_process\n",
    "from mlaas_tools.config_build import config_set"
   ]
  },
  {
   "cell_type": "code",
   "execution_count": 3,
   "id": "7828f847",
   "metadata": {},
   "outputs": [],
   "source": [
    "## Configure env\n",
    "if not os.path.isfile('config.ini'):\n",
    "    config_set()"
   ]
  },
  {
   "cell_type": "code",
   "execution_count": 4,
   "id": "eb2829b3",
   "metadata": {},
   "outputs": [
    {
     "name": "stdout",
     "output_type": "stream",
     "text": [
      "read key file\n",
      "login as edu-cytsao\n"
     ]
    }
   ],
   "source": [
    "## Load db connection\n",
    "rawdata_conn = get_conn('edu')"
   ]
  },
  {
   "cell_type": "code",
   "execution_count": 5,
   "id": "819f69fb",
   "metadata": {},
   "outputs": [
    {
     "name": "stdout",
     "output_type": "stream",
     "text": [
      "read key file\n",
      "login as edu-cytsao\n"
     ]
    },
    {
     "data": {
      "text/plain": [
       "AG25    83106\n",
       "KK32    75595\n",
       "CC03    54323\n",
       "AA39    48277\n",
       "CC88    40423\n",
       "        ...  \n",
       "AC10        1\n",
       "8947        1\n",
       "2930        1\n",
       "UV05        1\n",
       "8928        1\n",
       "Name: wm_prod_code, Length: 2263, dtype: int64"
      ]
     },
     "execution_count": 5,
     "metadata": {},
     "output_type": "execute_result"
    }
   ],
   "source": [
    "rawdata_conn = get_conn('edu')\n",
    "# interaction train w103\n",
    "w103_df = load_w103('2019-01-31', rawdata_conn, span=18)\n",
    "w103_df['wm_prod_code'].value_counts()"
   ]
  },
  {
   "cell_type": "code",
   "execution_count": 10,
   "id": "553afbb5",
   "metadata": {},
   "outputs": [
    {
     "data": {
      "text/plain": [
       "['AG25', 'KK32', 'CC03', 'AA39', 'CC88']"
      ]
     },
     "execution_count": 10,
     "metadata": {},
     "output_type": "execute_result"
    }
   ],
   "source": [
    "w103_df.groupby(\"wm_prod_code\")[\"wm_prod_code\"].count().sort_values(ascending=False).head(5).index.to_list()"
   ]
  },
  {
   "cell_type": "code",
   "execution_count": 20,
   "id": "fb4d50cc",
   "metadata": {},
   "outputs": [
    {
     "data": {
      "text/plain": [
       "cust_no                   wm_prod_code  wm_prod_code\n",
       "++++2rDzc1I9amUGBhmxLA==  5821          5821             1\n",
       "++1QLn8bCFzxWN8vQYBuRg==  NN18          NN18            32\n",
       "++2WLG2lyrgp9jhLkCFEKg==  2509          2509            18\n",
       "                          AG74          AG74            18\n",
       "                          WW06          WW06            18\n",
       "Name: wm_prod_code, dtype: int64"
      ]
     },
     "execution_count": 20,
     "metadata": {},
     "output_type": "execute_result"
    }
   ],
   "source": [
    "w103_df.groupby([\"cust_no\",\"wm_prod_code\"])['wm_prod_code'].value_counts()[:5]#.index.to_list()"
   ]
  },
  {
   "cell_type": "code",
   "execution_count": 20,
   "id": "0b9b6e32",
   "metadata": {},
   "outputs": [
    {
     "data": {
      "text/plain": [
       "['PP20', 'BB51', 'AG02', 'KK41', 'CC79']"
      ]
     },
     "execution_count": 20,
     "metadata": {},
     "output_type": "execute_result"
    }
   ],
   "source": [
    "top5_fund = w103_df.groupby([\"cust_no\",\"wm_prod_code\"])[\"wm_prod_code\"].count().sort_values(ascending=False).head(5).index.to_list()\n",
    "top5_fund = [i[1] for i in top5_fund]\n",
    "top5_fund"
   ]
  },
  {
   "cell_type": "code",
   "execution_count": 34,
   "id": "8fd6d04d",
   "metadata": {},
   "outputs": [
    {
     "data": {
      "text/plain": [
       "{'PP20': 0, 'BB51': 0, 'AG02': 0, 'KK41': 0, 'CC79': 0}"
      ]
     },
     "execution_count": 34,
     "metadata": {},
     "output_type": "execute_result"
    }
   ],
   "source": [
    "top_dict = {i:0 for i in top5_fund}\n",
    "top_dict"
   ]
  },
  {
   "cell_type": "code",
   "execution_count": 13,
   "id": "77f24911",
   "metadata": {},
   "outputs": [
    {
     "data": {
      "text/plain": [
       "192987"
      ]
     },
     "execution_count": 13,
     "metadata": {},
     "output_type": "execute_result"
    }
   ],
   "source": [
    "len(w103_df.groupby([\"cust_no\",\"wm_prod_code\"]))"
   ]
  },
  {
   "cell_type": "code",
   "execution_count": 18,
   "id": "3072d00e",
   "metadata": {},
   "outputs": [
    {
     "name": "stdout",
     "output_type": "stream",
     "text": [
      "1950007 72389\n"
     ]
    }
   ],
   "source": [
    "print(len(w103_df), len(w103_df.cust_no.unique()))"
   ]
  },
  {
   "cell_type": "code",
   "execution_count": 15,
   "id": "ff2598fc",
   "metadata": {},
   "outputs": [
    {
     "data": {
      "text/html": [
       "<div>\n",
       "<style scoped>\n",
       "    .dataframe tbody tr th:only-of-type {\n",
       "        vertical-align: middle;\n",
       "    }\n",
       "\n",
       "    .dataframe tbody tr th {\n",
       "        vertical-align: top;\n",
       "    }\n",
       "\n",
       "    .dataframe thead th {\n",
       "        text-align: right;\n",
       "    }\n",
       "</style>\n",
       "<table border=\"1\" class=\"dataframe\">\n",
       "  <thead>\n",
       "    <tr style=\"text-align: right;\">\n",
       "      <th></th>\n",
       "      <th>cust_no</th>\n",
       "      <th>wm_prod_code</th>\n",
       "      <th>txn_dt</th>\n",
       "      <th>txn_amt</th>\n",
       "      <th>dta_src</th>\n",
       "      <th>deduct_cnt</th>\n",
       "      <th>etl_dt</th>\n",
       "    </tr>\n",
       "  </thead>\n",
       "  <tbody>\n",
       "    <tr>\n",
       "      <th>90556</th>\n",
       "      <td>++++2rDzc1I9amUGBhmxLA==</td>\n",
       "      <td>5821</td>\n",
       "      <td>2017-11-27</td>\n",
       "      <td>1113229.0</td>\n",
       "      <td></td>\n",
       "      <td>0.0</td>\n",
       "      <td>2018-09-25</td>\n",
       "    </tr>\n",
       "    <tr>\n",
       "      <th>54929</th>\n",
       "      <td>++1QLn8bCFzxWN8vQYBuRg==</td>\n",
       "      <td>NN18</td>\n",
       "      <td>2017-08-08</td>\n",
       "      <td>29000.0</td>\n",
       "      <td></td>\n",
       "      <td>3.0</td>\n",
       "      <td>2018-09-25</td>\n",
       "    </tr>\n",
       "    <tr>\n",
       "      <th>95384</th>\n",
       "      <td>++2WLG2lyrgp9jhLkCFEKg==</td>\n",
       "      <td>2509</td>\n",
       "      <td>2017-08-14</td>\n",
       "      <td>29000.0</td>\n",
       "      <td></td>\n",
       "      <td>122.0</td>\n",
       "      <td>2018-09-25</td>\n",
       "    </tr>\n",
       "    <tr>\n",
       "      <th>95394</th>\n",
       "      <td>++2WLG2lyrgp9jhLkCFEKg==</td>\n",
       "      <td>AG74</td>\n",
       "      <td>2017-08-17</td>\n",
       "      <td>29000.0</td>\n",
       "      <td></td>\n",
       "      <td>124.0</td>\n",
       "      <td>2018-09-25</td>\n",
       "    </tr>\n",
       "    <tr>\n",
       "      <th>95380</th>\n",
       "      <td>++2WLG2lyrgp9jhLkCFEKg==</td>\n",
       "      <td>WW06</td>\n",
       "      <td>2017-08-17</td>\n",
       "      <td>29000.0</td>\n",
       "      <td></td>\n",
       "      <td>116.0</td>\n",
       "      <td>2018-09-25</td>\n",
       "    </tr>\n",
       "    <tr>\n",
       "      <th>...</th>\n",
       "      <td>...</td>\n",
       "      <td>...</td>\n",
       "      <td>...</td>\n",
       "      <td>...</td>\n",
       "      <td>...</td>\n",
       "      <td>...</td>\n",
       "      <td>...</td>\n",
       "    </tr>\n",
       "    <tr>\n",
       "      <th>1949729</th>\n",
       "      <td>zzvYlT/G3nOSg2SdheESWg==</td>\n",
       "      <td>AT07</td>\n",
       "      <td>2018-02-07</td>\n",
       "      <td>1021728.0</td>\n",
       "      <td>A0</td>\n",
       "      <td>0.0</td>\n",
       "      <td>2018-09-25</td>\n",
       "    </tr>\n",
       "    <tr>\n",
       "      <th>1949723</th>\n",
       "      <td>zzvYlT/G3nOSg2SdheESWg==</td>\n",
       "      <td>AV03</td>\n",
       "      <td>2018-02-12</td>\n",
       "      <td>17011.0</td>\n",
       "      <td></td>\n",
       "      <td>1.0</td>\n",
       "      <td>2018-09-25</td>\n",
       "    </tr>\n",
       "    <tr>\n",
       "      <th>1949731</th>\n",
       "      <td>zzvYlT/G3nOSg2SdheESWg==</td>\n",
       "      <td>BB39</td>\n",
       "      <td>2017-11-02</td>\n",
       "      <td>870000.0</td>\n",
       "      <td>A0</td>\n",
       "      <td>0.0</td>\n",
       "      <td>2018-09-25</td>\n",
       "    </tr>\n",
       "    <tr>\n",
       "      <th>1949739</th>\n",
       "      <td>zzvYlT/G3nOSg2SdheESWg==</td>\n",
       "      <td>FE41</td>\n",
       "      <td>2017-11-02</td>\n",
       "      <td>870000.0</td>\n",
       "      <td></td>\n",
       "      <td>0.0</td>\n",
       "      <td>2018-09-25</td>\n",
       "    </tr>\n",
       "    <tr>\n",
       "      <th>1949710</th>\n",
       "      <td>zzvYlT/G3nOSg2SdheESWg==</td>\n",
       "      <td>KK32</td>\n",
       "      <td>2018-01-10</td>\n",
       "      <td>17145.0</td>\n",
       "      <td></td>\n",
       "      <td>1.0</td>\n",
       "      <td>2018-09-25</td>\n",
       "    </tr>\n",
       "  </tbody>\n",
       "</table>\n",
       "<p>192987 rows × 7 columns</p>\n",
       "</div>"
      ],
      "text/plain": [
       "                          cust_no wm_prod_code      txn_dt    txn_amt dta_src  \\\n",
       "90556    ++++2rDzc1I9amUGBhmxLA==         5821  2017-11-27  1113229.0           \n",
       "54929    ++1QLn8bCFzxWN8vQYBuRg==         NN18  2017-08-08    29000.0           \n",
       "95384    ++2WLG2lyrgp9jhLkCFEKg==         2509  2017-08-14    29000.0           \n",
       "95394    ++2WLG2lyrgp9jhLkCFEKg==         AG74  2017-08-17    29000.0           \n",
       "95380    ++2WLG2lyrgp9jhLkCFEKg==         WW06  2017-08-17    29000.0           \n",
       "...                           ...          ...         ...        ...     ...   \n",
       "1949729  zzvYlT/G3nOSg2SdheESWg==         AT07  2018-02-07  1021728.0      A0   \n",
       "1949723  zzvYlT/G3nOSg2SdheESWg==         AV03  2018-02-12    17011.0           \n",
       "1949731  zzvYlT/G3nOSg2SdheESWg==         BB39  2017-11-02   870000.0      A0   \n",
       "1949739  zzvYlT/G3nOSg2SdheESWg==         FE41  2017-11-02   870000.0           \n",
       "1949710  zzvYlT/G3nOSg2SdheESWg==         KK32  2018-01-10    17145.0           \n",
       "\n",
       "         deduct_cnt      etl_dt  \n",
       "90556           0.0  2018-09-25  \n",
       "54929           3.0  2018-09-25  \n",
       "95384         122.0  2018-09-25  \n",
       "95394         124.0  2018-09-25  \n",
       "95380         116.0  2018-09-25  \n",
       "...             ...         ...  \n",
       "1949729         0.0  2018-09-25  \n",
       "1949723         1.0  2018-09-25  \n",
       "1949731         0.0  2018-09-25  \n",
       "1949739         0.0  2018-09-25  \n",
       "1949710         1.0  2018-09-25  \n",
       "\n",
       "[192987 rows x 7 columns]"
      ]
     },
     "execution_count": 15,
     "metadata": {},
     "output_type": "execute_result"
    }
   ],
   "source": [
    "w103_df.groupby([\"cust_no\",\"wm_prod_code\"], group_keys=False).apply(lambda x: x.sort_values([\"deduct_cnt\"],ascending=True).head(1))"
   ]
  },
  {
   "cell_type": "code",
   "execution_count": 21,
   "id": "bdea2b46",
   "metadata": {},
   "outputs": [
    {
     "data": {
      "text/plain": [
       "{'AG25': 83106, 'KK32': 75595, 'CC03': 54323, 'AA39': 48277, 'CC88': 40423}"
      ]
     },
     "execution_count": 21,
     "metadata": {},
     "output_type": "execute_result"
    }
   ],
   "source": [
    "w103_df.groupby(\"wm_prod_code\")[\"wm_prod_code\"].count().sort_values(ascending=False).head(5).to_dict()"
   ]
  },
  {
   "cell_type": "code",
   "execution_count": null,
   "id": "0f5a5592",
   "metadata": {},
   "outputs": [],
   "source": []
  }
 ],
 "metadata": {
  "kernelspec": {
   "display_name": "Python 3",
   "language": "python",
   "name": "python3"
  },
  "language_info": {
   "codemirror_mode": {
    "name": "ipython",
    "version": 3
   },
   "file_extension": ".py",
   "mimetype": "text/x-python",
   "name": "python",
   "nbconvert_exporter": "python",
   "pygments_lexer": "ipython3",
   "version": "3.7.10"
  }
 },
 "nbformat": 4,
 "nbformat_minor": 5
}
