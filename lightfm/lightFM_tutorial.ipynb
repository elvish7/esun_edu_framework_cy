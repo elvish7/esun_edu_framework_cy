{
 "cells": [
  {
   "cell_type": "markdown",
   "id": "95a321df",
   "metadata": {},
   "source": [
    "# 載入需要套件"
   ]
  },
  {
   "cell_type": "code",
   "execution_count": 4,
   "id": "eeb727bc",
   "metadata": {},
   "outputs": [],
   "source": [
    "import os\n",
    "import pandas as pd\n",
    "import numpy as np\n",
    "from lightfm import LightFM\n",
    "from lightfm.data import Dataset\n",
    "from evaluation import Evaluation\n",
    "from mlaas_tools.config_build import config_set\n",
    "from db_connection.utils import get_conn\n",
    "from utils import recommendation_all, load_w103, load_w106, load_cust_pop, create_all_feature_pairs, build_feature_tuples"
   ]
  },
  {
   "cell_type": "markdown",
   "id": "67cc8d97",
   "metadata": {},
   "source": [
    "# 確認環境設定"
   ]
  },
  {
   "cell_type": "code",
   "execution_count": null,
   "id": "0d1b4c56",
   "metadata": {},
   "outputs": [],
   "source": [
    "## Configure env\n",
    "if not os.path.isfile('config.ini'):\n",
    "    config_set()"
   ]
  },
  {
   "cell_type": "markdown",
   "id": "67cc8d97",
   "metadata": {},
   "source": [
    "# 連接後端資料庫"
   ]
  },
  {
   "cell_type": "code",
   "execution_count": 5,
   "id": "e3db43b8",
   "metadata": {},
   "outputs": [
    {
     "name": "stdout",
     "output_type": "stream",
     "text": [
      "read key file\n",
      "login as edu-ding\n"
     ]
    }
   ],
   "source": [
    "rawdata_conn = get_conn('edu')"
   ]
  },
  {
   "cell_type": "markdown",
   "id": "67cc8d97",
   "metadata": {},
   "source": [
    "# 設定參數"
   ]
  },
  {
   "cell_type": "code",
   "execution_count": null,
   "id": "bbf51ef5",
   "metadata": {},
   "outputs": [],
   "source": [
    "today = '2019-02-28'\n",
    "eval_duration = '1m'\n",
    "dimension = 128\n",
    "epoch = 10 "
   ]
  },
  {
   "cell_type": "markdown",
   "id": "0a4f2aa3",
   "metadata": {},
   "source": [
    "# Query W103 顧客交易紀錄"
   ]
  },
  {
   "cell_type": "code",
   "execution_count": 6,
   "id": "1ad3475a",
   "metadata": {},
   "outputs": [
    {
     "data": {
      "text/html": [
       "<div>\n",
       "<style scoped>\n",
       "    .dataframe tbody tr th:only-of-type {\n",
       "        vertical-align: middle;\n",
       "    }\n",
       "\n",
       "    .dataframe tbody tr th {\n",
       "        vertical-align: top;\n",
       "    }\n",
       "\n",
       "    .dataframe thead th {\n",
       "        text-align: right;\n",
       "    }\n",
       "</style>\n",
       "<table border=\"1\" class=\"dataframe\">\n",
       "  <thead>\n",
       "    <tr style=\"text-align: right;\">\n",
       "      <th></th>\n",
       "      <th>cust_no</th>\n",
       "      <th>wm_prod_code</th>\n",
       "      <th>txn_dt</th>\n",
       "      <th>txn_amt</th>\n",
       "      <th>dta_src</th>\n",
       "      <th>deduct_cnt</th>\n",
       "      <th>etl_dt</th>\n",
       "    </tr>\n",
       "  </thead>\n",
       "  <tbody>\n",
       "    <tr>\n",
       "      <th>0</th>\n",
       "      <td>0016boFyZaRofUFAYfXYTA==</td>\n",
       "      <td>2535</td>\n",
       "      <td>2018-04-16</td>\n",
       "      <td>5800000.0</td>\n",
       "      <td></td>\n",
       "      <td>0.0</td>\n",
       "      <td>2018-11-12</td>\n",
       "    </tr>\n",
       "    <tr>\n",
       "      <th>1</th>\n",
       "      <td>008d2RbDuEfP8n5Dc/t20Q==</td>\n",
       "      <td>5906</td>\n",
       "      <td>2017-12-11</td>\n",
       "      <td>525944.0</td>\n",
       "      <td></td>\n",
       "      <td>0.0</td>\n",
       "      <td>2018-09-25</td>\n",
       "    </tr>\n",
       "    <tr>\n",
       "      <th>2</th>\n",
       "      <td>00CC0bunwJX3jgJwycvHvQ==</td>\n",
       "      <td>2446</td>\n",
       "      <td>2017-09-08</td>\n",
       "      <td>11600000.0</td>\n",
       "      <td></td>\n",
       "      <td>0.0</td>\n",
       "      <td>2018-09-25</td>\n",
       "    </tr>\n",
       "    <tr>\n",
       "      <th>3</th>\n",
       "      <td>00EEcEgHkpb6NGcolnAEog==</td>\n",
       "      <td>UF56</td>\n",
       "      <td>2017-09-28</td>\n",
       "      <td>1392000.0</td>\n",
       "      <td></td>\n",
       "      <td>0.0</td>\n",
       "      <td>2018-09-25</td>\n",
       "    </tr>\n",
       "    <tr>\n",
       "      <th>4</th>\n",
       "      <td>00EEcEgHkpb6NGcolnAEog==</td>\n",
       "      <td>UF57</td>\n",
       "      <td>2017-09-28</td>\n",
       "      <td>1793012.0</td>\n",
       "      <td></td>\n",
       "      <td>0.0</td>\n",
       "      <td>2018-09-25</td>\n",
       "    </tr>\n",
       "    <tr>\n",
       "      <th>...</th>\n",
       "      <td>...</td>\n",
       "      <td>...</td>\n",
       "      <td>...</td>\n",
       "      <td>...</td>\n",
       "      <td>...</td>\n",
       "      <td>...</td>\n",
       "      <td>...</td>\n",
       "    </tr>\n",
       "    <tr>\n",
       "      <th>1938646</th>\n",
       "      <td>ZzzqJZTdev3aK41clf5i1w==</td>\n",
       "      <td>FCA3</td>\n",
       "      <td>2018-06-21</td>\n",
       "      <td>876670.0</td>\n",
       "      <td></td>\n",
       "      <td>0.0</td>\n",
       "      <td>2018-11-12</td>\n",
       "    </tr>\n",
       "    <tr>\n",
       "      <th>1938647</th>\n",
       "      <td>ZzzqJZTdev3aK41clf5i1w==</td>\n",
       "      <td>NN83</td>\n",
       "      <td>2017-09-12</td>\n",
       "      <td>402636.0</td>\n",
       "      <td></td>\n",
       "      <td>0.0</td>\n",
       "      <td>2018-09-25</td>\n",
       "    </tr>\n",
       "    <tr>\n",
       "      <th>1938648</th>\n",
       "      <td>ZzzqJZTdev3aK41clf5i1w==</td>\n",
       "      <td>FE41</td>\n",
       "      <td>2018-04-12</td>\n",
       "      <td>928000.0</td>\n",
       "      <td></td>\n",
       "      <td>0.0</td>\n",
       "      <td>2018-09-25</td>\n",
       "    </tr>\n",
       "    <tr>\n",
       "      <th>1938649</th>\n",
       "      <td>ZzzqJZTdev3aK41clf5i1w==</td>\n",
       "      <td>FE41</td>\n",
       "      <td>2018-04-12</td>\n",
       "      <td>928000.0</td>\n",
       "      <td></td>\n",
       "      <td>0.0</td>\n",
       "      <td>2018-09-25</td>\n",
       "    </tr>\n",
       "    <tr>\n",
       "      <th>1938650</th>\n",
       "      <td>ZzzqJZTdev3aK41clf5i1w==</td>\n",
       "      <td>FE41</td>\n",
       "      <td>2018-04-12</td>\n",
       "      <td>846510.0</td>\n",
       "      <td></td>\n",
       "      <td>0.0</td>\n",
       "      <td>2018-09-25</td>\n",
       "    </tr>\n",
       "  </tbody>\n",
       "</table>\n",
       "<p>1938651 rows × 7 columns</p>\n",
       "</div>"
      ],
      "text/plain": [
       "                          cust_no wm_prod_code      txn_dt     txn_amt  \\\n",
       "0        0016boFyZaRofUFAYfXYTA==         2535  2018-04-16   5800000.0   \n",
       "1        008d2RbDuEfP8n5Dc/t20Q==         5906  2017-12-11    525944.0   \n",
       "2        00CC0bunwJX3jgJwycvHvQ==         2446  2017-09-08  11600000.0   \n",
       "3        00EEcEgHkpb6NGcolnAEog==         UF56  2017-09-28   1392000.0   \n",
       "4        00EEcEgHkpb6NGcolnAEog==         UF57  2017-09-28   1793012.0   \n",
       "...                           ...          ...         ...         ...   \n",
       "1938646  ZzzqJZTdev3aK41clf5i1w==         FCA3  2018-06-21    876670.0   \n",
       "1938647  ZzzqJZTdev3aK41clf5i1w==         NN83  2017-09-12    402636.0   \n",
       "1938648  ZzzqJZTdev3aK41clf5i1w==         FE41  2018-04-12    928000.0   \n",
       "1938649  ZzzqJZTdev3aK41clf5i1w==         FE41  2018-04-12    928000.0   \n",
       "1938650  ZzzqJZTdev3aK41clf5i1w==         FE41  2018-04-12    846510.0   \n",
       "\n",
       "        dta_src  deduct_cnt      etl_dt  \n",
       "0                       0.0  2018-11-12  \n",
       "1                       0.0  2018-09-25  \n",
       "2                       0.0  2018-09-25  \n",
       "3                       0.0  2018-09-25  \n",
       "4                       0.0  2018-09-25  \n",
       "...         ...         ...         ...  \n",
       "1938646                 0.0  2018-11-12  \n",
       "1938647                 0.0  2018-09-25  \n",
       "1938648                 0.0  2018-09-25  \n",
       "1938649                 0.0  2018-09-25  \n",
       "1938650                 0.0  2018-09-25  \n",
       "\n",
       "[1938651 rows x 7 columns]"
      ]
     },
     "execution_count": 6,
     "metadata": {},
     "output_type": "execute_result"
    }
   ],
   "source": [
    "w103_df = load_w103(today, rawdata_conn)\n",
    "w103_df"
   ]
  },
  {
   "cell_type": "markdown",
   "id": "0a119f53",
   "metadata": {},
   "source": [
    "# Load cm_customer_m 顧客Features"
   ]
  },
  {
   "cell_type": "code",
   "execution_count": 7,
   "id": "25365a68",
   "metadata": {},
   "outputs": [
    {
     "data": {
      "text/html": [
       "<div>\n",
       "<style scoped>\n",
       "    .dataframe tbody tr th:only-of-type {\n",
       "        vertical-align: middle;\n",
       "    }\n",
       "\n",
       "    .dataframe tbody tr th {\n",
       "        vertical-align: top;\n",
       "    }\n",
       "\n",
       "    .dataframe thead th {\n",
       "        text-align: right;\n",
       "    }\n",
       "</style>\n",
       "<table border=\"1\" class=\"dataframe\">\n",
       "  <thead>\n",
       "    <tr style=\"text-align: right;\">\n",
       "      <th></th>\n",
       "      <th>cust_no</th>\n",
       "      <th>data_dt</th>\n",
       "      <th>age</th>\n",
       "      <th>gender_code</th>\n",
       "      <th>gender_code1</th>\n",
       "      <th>gender_code2</th>\n",
       "      <th>gender_code0</th>\n",
       "      <th>cust_vintage</th>\n",
       "      <th>income_range_code</th>\n",
       "      <th>income_range_code1</th>\n",
       "      <th>income_range_code2</th>\n",
       "      <th>income_range_code3</th>\n",
       "      <th>income_range_code4</th>\n",
       "      <th>income_range_code0</th>\n",
       "    </tr>\n",
       "  </thead>\n",
       "  <tbody>\n",
       "    <tr>\n",
       "      <th>0</th>\n",
       "      <td>0016boFyZaRofUFAYfXYTA==</td>\n",
       "      <td>2019-08-01</td>\n",
       "      <td>54.0</td>\n",
       "      <td>F</td>\n",
       "      <td>0.0</td>\n",
       "      <td>1.0</td>\n",
       "      <td>0.0</td>\n",
       "      <td>0.005474</td>\n",
       "      <td>2</td>\n",
       "      <td>0.0</td>\n",
       "      <td>1.0</td>\n",
       "      <td>0.0</td>\n",
       "      <td>0.0</td>\n",
       "      <td>0.0</td>\n",
       "    </tr>\n",
       "    <tr>\n",
       "      <th>1</th>\n",
       "      <td>008d2RbDuEfP8n5Dc/t20Q==</td>\n",
       "      <td>2019-01-02</td>\n",
       "      <td>53.0</td>\n",
       "      <td>F</td>\n",
       "      <td>0.0</td>\n",
       "      <td>1.0</td>\n",
       "      <td>0.0</td>\n",
       "      <td>0.005474</td>\n",
       "      <td>1</td>\n",
       "      <td>1.0</td>\n",
       "      <td>0.0</td>\n",
       "      <td>0.0</td>\n",
       "      <td>0.0</td>\n",
       "      <td>0.0</td>\n",
       "    </tr>\n",
       "    <tr>\n",
       "      <th>2</th>\n",
       "      <td>00CC0bunwJX3jgJwycvHvQ==</td>\n",
       "      <td>2019-08-01</td>\n",
       "      <td>48.0</td>\n",
       "      <td>M</td>\n",
       "      <td>1.0</td>\n",
       "      <td>0.0</td>\n",
       "      <td>0.0</td>\n",
       "      <td>0.005474</td>\n",
       "      <td>1</td>\n",
       "      <td>1.0</td>\n",
       "      <td>0.0</td>\n",
       "      <td>0.0</td>\n",
       "      <td>0.0</td>\n",
       "      <td>0.0</td>\n",
       "    </tr>\n",
       "    <tr>\n",
       "      <th>3</th>\n",
       "      <td>00EEcEgHkpb6NGcolnAEog==</td>\n",
       "      <td>2019-08-01</td>\n",
       "      <td>54.0</td>\n",
       "      <td>F</td>\n",
       "      <td>0.0</td>\n",
       "      <td>1.0</td>\n",
       "      <td>0.0</td>\n",
       "      <td>0.005474</td>\n",
       "      <td>3</td>\n",
       "      <td>0.0</td>\n",
       "      <td>0.0</td>\n",
       "      <td>1.0</td>\n",
       "      <td>0.0</td>\n",
       "      <td>0.0</td>\n",
       "    </tr>\n",
       "    <tr>\n",
       "      <th>4</th>\n",
       "      <td>00FmcV87beY8s7OI0Xjtkg==</td>\n",
       "      <td>2019-06-01</td>\n",
       "      <td>47.0</td>\n",
       "      <td>F</td>\n",
       "      <td>0.0</td>\n",
       "      <td>1.0</td>\n",
       "      <td>0.0</td>\n",
       "      <td>0.005474</td>\n",
       "      <td>2</td>\n",
       "      <td>0.0</td>\n",
       "      <td>1.0</td>\n",
       "      <td>0.0</td>\n",
       "      <td>0.0</td>\n",
       "      <td>0.0</td>\n",
       "    </tr>\n",
       "    <tr>\n",
       "      <th>...</th>\n",
       "      <td>...</td>\n",
       "      <td>...</td>\n",
       "      <td>...</td>\n",
       "      <td>...</td>\n",
       "      <td>...</td>\n",
       "      <td>...</td>\n",
       "      <td>...</td>\n",
       "      <td>...</td>\n",
       "      <td>...</td>\n",
       "      <td>...</td>\n",
       "      <td>...</td>\n",
       "      <td>...</td>\n",
       "      <td>...</td>\n",
       "      <td>...</td>\n",
       "    </tr>\n",
       "    <tr>\n",
       "      <th>66301</th>\n",
       "      <td>zZWE1Zhl7DBlGFGBfXSSog==</td>\n",
       "      <td>2019-07-01</td>\n",
       "      <td>50.0</td>\n",
       "      <td>F</td>\n",
       "      <td>0.0</td>\n",
       "      <td>1.0</td>\n",
       "      <td>0.0</td>\n",
       "      <td>0.005474</td>\n",
       "      <td>1</td>\n",
       "      <td>1.0</td>\n",
       "      <td>0.0</td>\n",
       "      <td>0.0</td>\n",
       "      <td>0.0</td>\n",
       "      <td>0.0</td>\n",
       "    </tr>\n",
       "    <tr>\n",
       "      <th>66302</th>\n",
       "      <td>ZZXAkIEU4xzGE95pBRb6sg==</td>\n",
       "      <td>2017-07-01</td>\n",
       "      <td>69.0</td>\n",
       "      <td>F</td>\n",
       "      <td>0.0</td>\n",
       "      <td>1.0</td>\n",
       "      <td>0.0</td>\n",
       "      <td>0.005474</td>\n",
       "      <td>1</td>\n",
       "      <td>1.0</td>\n",
       "      <td>0.0</td>\n",
       "      <td>0.0</td>\n",
       "      <td>0.0</td>\n",
       "      <td>0.0</td>\n",
       "    </tr>\n",
       "    <tr>\n",
       "      <th>66303</th>\n",
       "      <td>ZzyAUxhNwdD/5F84b/+4ww==</td>\n",
       "      <td>2019-02-02</td>\n",
       "      <td>50.0</td>\n",
       "      <td>F</td>\n",
       "      <td>0.0</td>\n",
       "      <td>1.0</td>\n",
       "      <td>0.0</td>\n",
       "      <td>0.005474</td>\n",
       "      <td>1</td>\n",
       "      <td>1.0</td>\n",
       "      <td>0.0</td>\n",
       "      <td>0.0</td>\n",
       "      <td>0.0</td>\n",
       "      <td>0.0</td>\n",
       "    </tr>\n",
       "    <tr>\n",
       "      <th>66304</th>\n",
       "      <td>ZzYD6HPVyldQFpsaCR5/Hg==</td>\n",
       "      <td>2019-07-01</td>\n",
       "      <td>52.0</td>\n",
       "      <td>M</td>\n",
       "      <td>1.0</td>\n",
       "      <td>0.0</td>\n",
       "      <td>0.0</td>\n",
       "      <td>0.005474</td>\n",
       "      <td>2</td>\n",
       "      <td>0.0</td>\n",
       "      <td>1.0</td>\n",
       "      <td>0.0</td>\n",
       "      <td>0.0</td>\n",
       "      <td>0.0</td>\n",
       "    </tr>\n",
       "    <tr>\n",
       "      <th>66305</th>\n",
       "      <td>+Zzz53zCPHD9ULeoCsmFpg==</td>\n",
       "      <td>2019-05-01</td>\n",
       "      <td>43.0</td>\n",
       "      <td>M</td>\n",
       "      <td>1.0</td>\n",
       "      <td>0.0</td>\n",
       "      <td>0.0</td>\n",
       "      <td>0.005474</td>\n",
       "      <td>1</td>\n",
       "      <td>1.0</td>\n",
       "      <td>0.0</td>\n",
       "      <td>0.0</td>\n",
       "      <td>0.0</td>\n",
       "      <td>0.0</td>\n",
       "    </tr>\n",
       "  </tbody>\n",
       "</table>\n",
       "<p>65542 rows × 14 columns</p>\n",
       "</div>"
      ],
      "text/plain": [
       "                        cust_no     data_dt   age gender_code  gender_code1  \\\n",
       "0      0016boFyZaRofUFAYfXYTA==  2019-08-01  54.0           F           0.0   \n",
       "1      008d2RbDuEfP8n5Dc/t20Q==  2019-01-02  53.0           F           0.0   \n",
       "2      00CC0bunwJX3jgJwycvHvQ==  2019-08-01  48.0           M           1.0   \n",
       "3      00EEcEgHkpb6NGcolnAEog==  2019-08-01  54.0           F           0.0   \n",
       "4      00FmcV87beY8s7OI0Xjtkg==  2019-06-01  47.0           F           0.0   \n",
       "...                         ...         ...   ...         ...           ...   \n",
       "66301  zZWE1Zhl7DBlGFGBfXSSog==  2019-07-01  50.0           F           0.0   \n",
       "66302  ZZXAkIEU4xzGE95pBRb6sg==  2017-07-01  69.0           F           0.0   \n",
       "66303  ZzyAUxhNwdD/5F84b/+4ww==  2019-02-02  50.0           F           0.0   \n",
       "66304  ZzYD6HPVyldQFpsaCR5/Hg==  2019-07-01  52.0           M           1.0   \n",
       "66305  +Zzz53zCPHD9ULeoCsmFpg==  2019-05-01  43.0           M           1.0   \n",
       "\n",
       "       gender_code2  gender_code0  cust_vintage income_range_code  \\\n",
       "0               1.0           0.0      0.005474                 2   \n",
       "1               1.0           0.0      0.005474                 1   \n",
       "2               0.0           0.0      0.005474                 1   \n",
       "3               1.0           0.0      0.005474                 3   \n",
       "4               1.0           0.0      0.005474                 2   \n",
       "...             ...           ...           ...               ...   \n",
       "66301           1.0           0.0      0.005474                 1   \n",
       "66302           1.0           0.0      0.005474                 1   \n",
       "66303           1.0           0.0      0.005474                 1   \n",
       "66304           0.0           0.0      0.005474                 2   \n",
       "66305           0.0           0.0      0.005474                 1   \n",
       "\n",
       "       income_range_code1  income_range_code2  income_range_code3  \\\n",
       "0                     0.0                 1.0                 0.0   \n",
       "1                     1.0                 0.0                 0.0   \n",
       "2                     1.0                 0.0                 0.0   \n",
       "3                     0.0                 0.0                 1.0   \n",
       "4                     0.0                 1.0                 0.0   \n",
       "...                   ...                 ...                 ...   \n",
       "66301                 1.0                 0.0                 0.0   \n",
       "66302                 1.0                 0.0                 0.0   \n",
       "66303                 1.0                 0.0                 0.0   \n",
       "66304                 0.0                 1.0                 0.0   \n",
       "66305                 1.0                 0.0                 0.0   \n",
       "\n",
       "       income_range_code4  income_range_code0  \n",
       "0                     0.0                 0.0  \n",
       "1                     0.0                 0.0  \n",
       "2                     0.0                 0.0  \n",
       "3                     0.0                 0.0  \n",
       "4                     0.0                 0.0  \n",
       "...                   ...                 ...  \n",
       "66301                 0.0                 0.0  \n",
       "66302                 0.0                 0.0  \n",
       "66303                 0.0                 0.0  \n",
       "66304                 0.0                 0.0  \n",
       "66305                 0.0                 0.0  \n",
       "\n",
       "[65542 rows x 14 columns]"
      ]
     },
     "execution_count": 7,
     "metadata": {},
     "output_type": "execute_result"
    }
   ],
   "source": [
    "cm_customer_m_df = load_cust_pop(today, rawdata_conn)"
   ]
  },
  {
   "cell_type": "markdown",
   "id": "5124a084",
   "metadata": {},
   "source": [
    "# Intersection of w103 & cm_customer_m wrt cust_no"
   ]
  },
  {
   "cell_type": "code",
   "execution_count": null,
   "id": "67cc8d97",
   "metadata": {},
   "outputs": [],
   "source": [
    "_filter = cm_customer_m_df.cust_no.isin(w103_df['cust_no'].tolist())\n",
    "cust_df_filter = cm_customer_m_df[_filter]\n",
    "_selected_col = ['cust_no', 'age', 'gender_code', 'cust_vintage', 'income_range_code']\n",
    "cust_df_filter = cust_df_filter[_selected_col]\n",
    "cust_df_filter"
   ]
  },
  {
   "cell_type": "markdown",
   "id": "6605a15d",
   "metadata": {},
   "source": [
    "# Load W106 基金Features"
   ]
  },
  {
   "cell_type": "code",
   "execution_count": 8,
   "id": "fd6a4989",
   "metadata": {},
   "outputs": [],
   "source": [
    "w106_df = load_w106(rawdata_conn)"
   ]
  },
  {
   "cell_type": "markdown",
   "id": "e568e7e7",
   "metadata": {},
   "source": [
    "# Intersection of w103 & w106 wrt wm_prod_code"
   ]
  },
  {
   "cell_type": "code",
   "execution_count": 12,
   "id": "29cf8b57",
   "metadata": {},
   "outputs": [
    {
     "data": {
      "text/html": [
       "<div>\n",
       "<style scoped>\n",
       "    .dataframe tbody tr th:only-of-type {\n",
       "        vertical-align: middle;\n",
       "    }\n",
       "\n",
       "    .dataframe tbody tr th {\n",
       "        vertical-align: top;\n",
       "    }\n",
       "\n",
       "    .dataframe thead th {\n",
       "        text-align: right;\n",
       "    }\n",
       "</style>\n",
       "<table border=\"1\" class=\"dataframe\">\n",
       "  <thead>\n",
       "    <tr style=\"text-align: right;\">\n",
       "      <th></th>\n",
       "      <th>wm_prod_code</th>\n",
       "      <th>prod_detail_type_code</th>\n",
       "      <th>prod_ccy</th>\n",
       "      <th>prod_risk_code</th>\n",
       "      <th>can_rcmd_ind</th>\n",
       "    </tr>\n",
       "  </thead>\n",
       "  <tbody>\n",
       "    <tr>\n",
       "      <th>0</th>\n",
       "      <td>AAC4</td>\n",
       "      <td>FNDF</td>\n",
       "      <td>AUD</td>\n",
       "      <td>RR3</td>\n",
       "      <td>1</td>\n",
       "    </tr>\n",
       "    <tr>\n",
       "      <th>2</th>\n",
       "      <td>AF46</td>\n",
       "      <td>FNDF</td>\n",
       "      <td>EUR</td>\n",
       "      <td>RR4</td>\n",
       "      <td>0</td>\n",
       "    </tr>\n",
       "    <tr>\n",
       "      <th>3</th>\n",
       "      <td>AO14</td>\n",
       "      <td>FNDF</td>\n",
       "      <td>USD</td>\n",
       "      <td>RR2</td>\n",
       "      <td>1</td>\n",
       "    </tr>\n",
       "    <tr>\n",
       "      <th>5</th>\n",
       "      <td>GG29</td>\n",
       "      <td>FNDF</td>\n",
       "      <td>EUR</td>\n",
       "      <td>RR3</td>\n",
       "      <td>1</td>\n",
       "    </tr>\n",
       "    <tr>\n",
       "      <th>6</th>\n",
       "      <td>GG48</td>\n",
       "      <td>FNDF</td>\n",
       "      <td>USD</td>\n",
       "      <td>RR4</td>\n",
       "      <td>0</td>\n",
       "    </tr>\n",
       "    <tr>\n",
       "      <th>...</th>\n",
       "      <td>...</td>\n",
       "      <td>...</td>\n",
       "      <td>...</td>\n",
       "      <td>...</td>\n",
       "      <td>...</td>\n",
       "    </tr>\n",
       "    <tr>\n",
       "      <th>4160</th>\n",
       "      <td>3041</td>\n",
       "      <td>FNDD</td>\n",
       "      <td>TWD</td>\n",
       "      <td>RR3</td>\n",
       "      <td>1</td>\n",
       "    </tr>\n",
       "    <tr>\n",
       "      <th>4161</th>\n",
       "      <td>3305</td>\n",
       "      <td>FNDD</td>\n",
       "      <td>TWD</td>\n",
       "      <td>RR4</td>\n",
       "      <td>1</td>\n",
       "    </tr>\n",
       "    <tr>\n",
       "      <th>4162</th>\n",
       "      <td>3808</td>\n",
       "      <td>FNDD</td>\n",
       "      <td>TWD</td>\n",
       "      <td>RR4</td>\n",
       "      <td>1</td>\n",
       "    </tr>\n",
       "    <tr>\n",
       "      <th>4164</th>\n",
       "      <td>4826</td>\n",
       "      <td>FNDD</td>\n",
       "      <td>CNY</td>\n",
       "      <td>RR3</td>\n",
       "      <td>1</td>\n",
       "    </tr>\n",
       "    <tr>\n",
       "      <th>4166</th>\n",
       "      <td>5929</td>\n",
       "      <td>FNDD</td>\n",
       "      <td>CNY</td>\n",
       "      <td>RR3</td>\n",
       "      <td>1</td>\n",
       "    </tr>\n",
       "  </tbody>\n",
       "</table>\n",
       "<p>2267 rows × 5 columns</p>\n",
       "</div>"
      ],
      "text/plain": [
       "     wm_prod_code prod_detail_type_code prod_ccy prod_risk_code  can_rcmd_ind\n",
       "0            AAC4                  FNDF      AUD            RR3             1\n",
       "2            AF46                  FNDF      EUR            RR4             0\n",
       "3            AO14                  FNDF      USD            RR2             1\n",
       "5            GG29                  FNDF      EUR            RR3             1\n",
       "6            GG48                  FNDF      USD            RR4             0\n",
       "...           ...                   ...      ...            ...           ...\n",
       "4160         3041                  FNDD      TWD            RR3             1\n",
       "4161         3305                  FNDD      TWD            RR4             1\n",
       "4162         3808                  FNDD      TWD            RR4             1\n",
       "4164         4826                  FNDD      CNY            RR3             1\n",
       "4166         5929                  FNDD      CNY            RR3             1\n",
       "\n",
       "[2267 rows x 5 columns]"
      ]
     },
     "execution_count": 12,
     "metadata": {},
     "output_type": "execute_result"
    }
   ],
   "source": [
    "_filter = w106_df.wm_prod_code.isin(w103_df['wm_prod_code'].tolist())\n",
    "w106_df_filter = w106_df[_filter]\n",
    "_selected_col = ['wm_prod_code','prod_detail_type_code','prod_ccy','prod_risk_code','can_rcmd_ind']\n",
    "w106_df_filter = w106_df_filter[_selected_col]\n",
    "w106_df_filter"
   ]
  },
  {
   "cell_type": "markdown",
   "id": "e6980123",
   "metadata": {},
   "source": [
    "# 建立User features pairs"
   ]
  },
  {
   "cell_type": "code",
   "execution_count": 13,
   "id": "c79f2f8b",
   "metadata": {},
   "outputs": [
    {
     "data": {
      "text/plain": [
       "['data_dt:2019-08-01',\n",
       " 'data_dt:2019-01-02',\n",
       " 'data_dt:2019-06-01',\n",
       " 'data_dt:2019-07-01',\n",
       " 'data_dt:2019-04-01',\n",
       " 'data_dt:2018-12-01',\n",
       " 'data_dt:2019-05-01',\n",
       " 'data_dt:2019-03-01',\n",
       " 'data_dt:2018-11-02',\n",
       " 'data_dt:2019-02-02',\n",
       " 'data_dt:2018-10-02',\n",
       " 'data_dt:2018-09-01',\n",
       " 'data_dt:2018-03-01',\n",
       " 'data_dt:2018-02-01',\n",
       " 'data_dt:2018-08-01',\n",
       " 'data_dt:2016-11-01',\n",
       " 'data_dt:2017-02-02',\n",
       " 'data_dt:2017-08-01',\n",
       " 'data_dt:2018-01-02',\n",
       " 'data_dt:2018-05-02',\n",
       " 'data_dt:2016-12-01',\n",
       " 'data_dt:2017-11-01',\n",
       " 'data_dt:2018-06-05',\n",
       " 'data_dt:2017-07-01',\n",
       " 'data_dt:2017-01-01',\n",
       " 'data_dt:2016-10-03',\n",
       " 'data_dt:2017-10-01',\n",
       " 'data_dt:2017-09-01',\n",
       " 'data_dt:2017-12-01',\n",
       " 'data_dt:2017-05-02',\n",
       " 'data_dt:2017-06-01',\n",
       " 'data_dt:2017-04-03',\n",
       " 'data_dt:2018-04-01',\n",
       " 'data_dt:2017-03-01',\n",
       " 'data_dt:2018-07-01',\n",
       " 'age:54.0',\n",
       " 'age:53.0',\n",
       " 'age:48.0',\n",
       " 'age:47.0',\n",
       " 'age:43.0',\n",
       " 'age:25.0',\n",
       " 'age:36.0',\n",
       " 'age:52.0',\n",
       " 'age:49.0',\n",
       " 'age:39.0',\n",
       " 'age:40.0',\n",
       " 'age:27.0',\n",
       " 'age:44.0',\n",
       " 'age:50.0',\n",
       " 'age:56.0',\n",
       " 'age:65.0',\n",
       " 'age:38.0',\n",
       " 'age:69.0',\n",
       " 'age:35.0',\n",
       " 'age:42.0',\n",
       " 'age:61.0',\n",
       " 'age:62.0',\n",
       " 'age:46.0',\n",
       " 'age:29.0',\n",
       " 'age:55.0',\n",
       " 'age:58.0',\n",
       " 'age:28.0',\n",
       " 'age:51.0',\n",
       " 'age:63.0',\n",
       " 'age:41.0',\n",
       " 'age:33.0',\n",
       " 'age:68.0',\n",
       " 'age:30.0',\n",
       " 'age:34.0',\n",
       " 'age:23.0',\n",
       " 'age:26.0',\n",
       " 'age:24.0',\n",
       " 'age:45.0',\n",
       " 'age:67.0',\n",
       " 'age:59.0',\n",
       " 'age:66.0',\n",
       " 'age:57.0',\n",
       " 'age:64.0',\n",
       " 'age:20.0',\n",
       " 'age:21.0',\n",
       " 'age:37.0',\n",
       " 'age:31.0',\n",
       " 'age:32.0',\n",
       " 'age:22.0',\n",
       " 'age:60.0',\n",
       " 'gender_code:F',\n",
       " 'gender_code:M',\n",
       " 'gender_code1:0.0',\n",
       " 'gender_code1:1.0',\n",
       " 'gender_code2:1.0',\n",
       " 'gender_code2:0.0',\n",
       " 'gender_code0:0.0',\n",
       " 'cust_vintage:0.005473598139970659',\n",
       " 'income_range_code:2',\n",
       " 'income_range_code:1',\n",
       " 'income_range_code:3',\n",
       " 'income_range_code:4',\n",
       " 'income_range_code:None',\n",
       " 'income_range_code1:0.0',\n",
       " 'income_range_code1:1.0',\n",
       " 'income_range_code2:1.0',\n",
       " 'income_range_code2:0.0',\n",
       " 'income_range_code3:0.0',\n",
       " 'income_range_code3:1.0',\n",
       " 'income_range_code4:0.0',\n",
       " 'income_range_code4:1.0',\n",
       " 'income_range_code0:0.0',\n",
       " 'income_range_code0:1.0']"
      ]
     },
     "execution_count": 13,
     "metadata": {},
     "output_type": "execute_result"
    }
   ],
   "source": [
    "\n",
    "user_fts = create_all_feature_pairs(cust_df_filter)\n",
    "user_fts"
   ]
  },
  {
   "cell_type": "markdown",
   "id": "d22a6872",
   "metadata": {},
   "source": [
    "# 建立Item features pairs"
   ]
  },
  {
   "cell_type": "code",
   "execution_count": 14,
   "id": "2b87dffe",
   "metadata": {},
   "outputs": [
    {
     "data": {
      "text/plain": [
       "['prod_detail_type_code:FNDF',\n",
       " 'prod_detail_type_code:FNDD',\n",
       " 'prod_ccy:AUD',\n",
       " 'prod_ccy:EUR',\n",
       " 'prod_ccy:USD',\n",
       " 'prod_ccy:TWD',\n",
       " 'prod_ccy:SGD',\n",
       " 'prod_ccy:JPY',\n",
       " 'prod_ccy:CNY',\n",
       " 'prod_ccy:SEK',\n",
       " 'prod_ccy:HKD',\n",
       " 'prod_ccy:GBP',\n",
       " 'prod_ccy:ZAR',\n",
       " 'prod_ccy:CHF',\n",
       " 'prod_ccy:NZD',\n",
       " 'prod_ccy:CAD',\n",
       " 'prod_risk_code:RR3',\n",
       " 'prod_risk_code:RR4',\n",
       " 'prod_risk_code:RR2',\n",
       " 'prod_risk_code:RR5',\n",
       " 'prod_risk_code:RR1',\n",
       " 'can_rcmd_ind:1',\n",
       " 'can_rcmd_ind:0']"
      ]
     },
     "execution_count": 14,
     "metadata": {},
     "output_type": "execute_result"
    }
   ],
   "source": [
    "# wm_prod_code:2535\n",
    "# wm_prod_code:JJ15\n",
    "# wm_prod_code:5704\n",
    "# wm_prod_code:KK41\n",
    "# wm_prod_code:ED64\n",
    "\n",
    "item_fts = create_all_feature_pairs(w106_df_filter)\n",
    "item_fts "
   ]
  },
  {
   "cell_type": "markdown",
   "id": "45019579",
   "metadata": {},
   "source": [
    "# Fit dataset with LightFM datasets function"
   ]
  },
  {
   "cell_type": "code",
   "execution_count": 15,
   "id": "f49d63da",
   "metadata": {},
   "outputs": [],
   "source": [
    "#這邊會使用user featreues & item features去 fit LightFM dataset format \n",
    "\n",
    "dataset1 = Dataset()\n",
    "dataset1.fit(\n",
    "        w103_df['cust_no'].unique(), # all the users\n",
    "        w103_df['wm_prod_code'].unique(), # all the items\n",
    "        user_features = user_fts,\n",
    "        item_features = item_fts\n",
    ")"
   ]
  },
  {
   "cell_type": "markdown",
   "id": "05b6c691",
   "metadata": {},
   "source": [
    "# 產生 user/item tuple"
   ]
  },
  {
   "cell_type": "code",
   "execution_count": 16,
   "id": "f09a2c93",
   "metadata": {},
   "outputs": [],
   "source": [
    "#user/item tuple: (item id, {feature name: feature weight})\n",
    "\n",
    "\n",
    "# [('AAC4', ['prod_ccy:AUD']),\n",
    "#  ('AF46', ['prod_ccy:EUR']),\n",
    "#  ('AO14', ['prod_ccy:USD']),\n",
    "#  ('GG29', ['prod_ccy:EUR']),\n",
    "#  ('GG48', ['prod_ccy:USD'])]\n",
    "\n",
    "user_tuples = build_feature_tuples(cust_df_filter)\n",
    "user_features = dataset1.build_user_features(user_tuples, normalize= False)\n",
    "item_tuples = build_feature_tuples(w106_df_filter)\n",
    "item_features = dataset1.build_item_features(item_tuples, normalize= False)"
   ]
  },
  {
   "cell_type": "markdown",
   "id": "a942294a",
   "metadata": {},
   "source": [
    "# Create user-item interation & weight matrix"
   ]
  },
  {
   "cell_type": "code",
   "execution_count": 17,
   "id": "2ba6d506",
   "metadata": {},
   "outputs": [],
   "source": [
    "(interactions, weights) = dataset1.build_interactions([(x[0], x[1], x[3]) for x in w103_df.values ])\n"
   ]
  },
  {
   "cell_type": "code",
   "execution_count": 18,
   "id": "e0f137dd",
   "metadata": {},
   "outputs": [],
   "source": [
    "## Get Id mappings \n",
    "user_id_map, user_feature_map, item_id_map, item_feature_map = dataset1.mapping()"
   ]
  },
  {
   "cell_type": "markdown",
   "id": "a207056a",
   "metadata": {},
   "source": [
    "# 決定是否使用 meta data"
   ]
  },
  {
   "cell_type": "code",
   "execution_count": null,
   "id": "33a249be",
   "metadata": {},
   "outputs": [],
   "source": [
    "user_meta_ft = False\n",
    "item_meta_ft = False"
   ]
  },
  {
   "cell_type": "code",
   "execution_count": null,
   "id": "6fd6be23",
   "metadata": {},
   "outputs": [],
   "source": [
    "if not user_meta_ft: user_meta_ft = None\n",
    "if not item_meta_ft: item_meta_ft = None   "
   ]
  },
  {
   "cell_type": "markdown",
   "id": "da20db04",
   "metadata": {},
   "source": [
    "# 模型訓練"
   ]
  },
  {
   "cell_type": "code",
   "execution_count": 21,
   "id": "3600291c",
   "metadata": {},
   "outputs": [
    {
     "data": {
      "text/plain": [
       "<lightfm.lightfm.LightFM at 0x7fad2d2caf90>"
      ]
     },
     "execution_count": 21,
     "metadata": {},
     "output_type": "execute_result"
    }
   ],
   "source": [
    "model = LightFM(no_components=dimension, loss='warp')\n",
    "model.fit(interactions, # spase matrix representing whether user u and item i interacted\n",
    "      user_features= user_features, # we have built the sparse matrix above\n",
    "      item_features= item_features, # we have built the sparse matrix above\n",
    "      sample_weight= weights, # spase matrix representing how much value to give to user u and item i inetraction: i.e ratings\n",
    "      epochs=epoch) "
   ]
  },
  {
   "cell_type": "markdown",
   "id": "ef3183ff",
   "metadata": {},
   "source": [
    "# 模型預測"
   ]
  },
  {
   "cell_type": "code",
   "execution_count": 22,
   "id": "f898f941",
   "metadata": {},
   "outputs": [
    {
     "name": "stderr",
     "output_type": "stream",
     "text": [
      "  0%|          | 0/72020 [00:00<?, ?it/s]"
     ]
    },
    {
     "name": "stdout",
     "output_type": "stream",
     "text": [
      "Predicting...\n"
     ]
    },
    {
     "name": "stderr",
     "output_type": "stream",
     "text": [
      "100%|██████████| 72020/72020 [02:20<00:00, 512.69it/s]\n"
     ]
    }
   ],
   "source": [
    "print(\"Predicting...\")\n",
    "user_list = w103_df['cust_no'].unique().tolist()\n",
    "pred = recommendation_all(model, interactions, user_list, user_id_map, item_id_map)"
   ]
  },
  {
   "cell_type": "markdown",
   "id": "c6401245",
   "metadata": {},
   "source": [
    "# Evaluation"
   ]
  },
  {
   "cell_type": "code",
   "execution_count": 24,
   "id": "0eb1b8d7",
   "metadata": {},
   "outputs": [
    {
     "name": "stdout",
     "output_type": "stream",
     "text": [
      "Evaluating Results...\n",
      "read key file\n",
      "login as edu-ding\n"
     ]
    },
    {
     "name": "stderr",
     "output_type": "stream",
     "text": [
      "100%|██████████| 72020/72020 [00:00<00:00, 674101.79it/s]"
     ]
    },
    {
     "name": "stdout",
     "output_type": "stream",
     "text": [
      "Today: 2019-02-28 Mean Precision: 0.1267981116356346\n",
      "\n"
     ]
    },
    {
     "name": "stderr",
     "output_type": "stream",
     "text": [
      "\n"
     ]
    }
   ],
   "source": [
    "print(\"Evaluating Results...\")\n",
    "duration = 5\n",
    "evaluation = Evaluation(today, pred, duration)\n",
    "score = evaluation.results()\n",
    "print(f'Today: {today} Mean Precision: {score}\\n')"
   ]
  }
 ],
 "metadata": {
  "kernelspec": {
   "display_name": "Python 3",
   "language": "python",
   "name": "python3"
  },
  "language_info": {
   "codemirror_mode": {
    "name": "ipython",
    "version": 3
   },
   "file_extension": ".py",
   "mimetype": "text/x-python",
   "name": "python",
   "nbconvert_exporter": "python",
   "pygments_lexer": "ipython3",
   "version": "2.7.18"
  }
 },
 "nbformat": 4,
 "nbformat_minor": 5
}
